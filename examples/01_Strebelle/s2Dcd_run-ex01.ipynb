{
 "cells": [
  {
   "cell_type": "markdown",
   "id": "1c149de9",
   "metadata": {},
   "source": [
    "# `s2Dcd` basic example\n",
    "This is a quite simple example to illustrate how to perform a 3D simulation by using 2D training images only with the module `s2Dcd` in practice.\n",
    "\n",
    "You can find a Python source version of this code in the same folder of this notebook (or export is as you wish from a Jupyter notebook).\n",
    "\n",
    "\n"
   ]
  },
  {
   "cell_type": "code",
   "execution_count": 19,
   "id": "05cfbf33",
   "metadata": {},
   "outputs": [],
   "source": [
    "# Import \"standard\" modules\n",
    "import os\n",
    "import numpy as np\n",
    "import geone as gn\n",
    "import json\n",
    "import copy\n",
    "import matplotlib.pylab as pl"
   ]
  },
  {
   "cell_type": "markdown",
   "id": "f9bb7ccd",
   "metadata": {},
   "source": [
    "Import some modules contained in the `s2Dcd` package."
   ]
  },
  {
   "cell_type": "code",
   "execution_count": 20,
   "id": "01690a24",
   "metadata": {},
   "outputs": [],
   "source": [
    "# Import non-standard modules\n",
    "import s2Dcd.s2Dcd as s2Dcd\n",
    "import s2Dcd.utili as utili"
   ]
  },
  {
   "cell_type": "code",
   "execution_count": 21,
   "id": "0ee62a00",
   "metadata": {},
   "outputs": [
    {
     "name": "stdout",
     "output_type": "stream",
     "text": [
      "\n",
      "\n",
      "    ***********************\n",
      "    ***  1059164934.py  ***\n",
      "    ***********************\n",
      "    START:  Wed Aug 17 11:03:17 2022\n"
     ]
    }
   ],
   "source": [
    "# Print header and start counting time\n",
    "# (this is useful only for a standalone run, not in a Jupyter notebook...)\n",
    "time_start = utili.print_start() \n",
    "\n",
    "# If you can use a parallel version of the MPS simulation core,\n",
    "# define here the number of threads.\n",
    "nthreads = 8"
   ]
  },
  {
   "cell_type": "markdown",
   "id": "10769a5d",
   "metadata": {},
   "source": [
    "## Read the info of the *pseudo* 3D training image\n",
    "Then, the next step is to read all the information related to the training images (TIs) used. For the moment, we load the information as we would have when working with a complete 3D TI (that we don't have here, actually).\n",
    "This information is contained in the `JSON` file `ti3Ddict.json`, which contains all the information needed to define the geometry of a 3D TI. See the module (geone)[https://github.com/randlab/geone] for more info about the image format.\n",
    "\n",
    "In our case (see later in the script), we are using two (pseudo) 3D TIs:\n",
    "- one along the plane $xz$, of dimensions $250{\\times}1{\\times}250$\n",
    "- one along the plane $xy$, of dimensions $250{\\times}250{\\times}1$\n",
    "\n",
    "Here no training image is provided for the plane $yz$, but if for your case study you have one, you can use it...\n",
    "\n",
    "Therefore, ideally, the two aforementioned TIs could be two slices of a full 3D TI, of dimensions $250{\\times}250{\\times}250$. This is the information contained in the file `ti3Ddict.json`.\n"
   ]
  },
  {
   "cell_type": "code",
   "execution_count": 22,
   "id": "ddea5263",
   "metadata": {},
   "outputs": [],
   "source": [
    "# %% Read some info about the TI\n",
    "\n",
    "# Read from an external file the dimensions that would have a 3D TI\n",
    "# (when composed by the 2D slices considered here)\n",
    "ti3Ddict_file = \"ti3Ddict.json\"\n",
    "with open(ti3Ddict_file, \"r\") as json_in:\n",
    "    ti3Ddict = json.load(json_in)\n",
    "\n",
    "# Use the parameters to create an empty 3D TI\n",
    "ti3Ddict[\"val\"] = np.full([ti3Ddict[\"nx\"], ti3Ddict[\"ny\"], ti3Ddict[\"nz\"]],\n",
    "                          np.nan)"
   ]
  },
  {
   "cell_type": "markdown",
   "id": "aec6c15f",
   "metadata": {},
   "source": [
    "With the lines above, the content of the `JSON` file is directly translated into a Python dictionary, that once properly initializated (for example with *NaN* values), can be directly used to create an `Image` object within `geone`:"
   ]
  },
  {
   "cell_type": "code",
   "execution_count": 23,
   "id": "5d5ef81d",
   "metadata": {},
   "outputs": [],
   "source": [
    "ti3D = gn.img.Img(**ti3Ddict)"
   ]
  },
  {
   "cell_type": "markdown",
   "id": "d0c9b539",
   "metadata": {},
   "source": [
    "## Create a *template* for the simulation parameters of the simulation steps\n",
    "The next step is to read all the information related to the simulation grid and the simulation parameters.\n",
    "This information is contained into the `JSON` file `ds3Ddict.json`."
   ]
  },
  {
   "cell_type": "code",
   "execution_count": 24,
   "id": "efa1dc97",
   "metadata": {},
   "outputs": [],
   "source": [
    "# %% Read the simulation grid and the main simulation parameters    \n",
    "#\n",
    "\n",
    "# Create a dictionary containing the parameters that will be used to set up\n",
    "# the default input parameters of the DeeSse\n",
    "ds3Ddict_file = \"ds3Ddict.json\"\n",
    "with open(ds3Ddict_file, \"r\") as json_in:\n",
    "    ds3Din_dict = json.load(json_in)"
   ]
  },
  {
   "cell_type": "markdown",
   "id": "ea730ec2",
   "metadata": {},
   "source": [
    "Just to lighten the notation, use some variables..."
   ]
  },
  {
   "cell_type": "code",
   "execution_count": 25,
   "id": "5241aefc",
   "metadata": {},
   "outputs": [],
   "source": [
    "nx = ds3Din_dict[\"nx\"]    \n",
    "ny = ds3Din_dict[\"ny\"]\n",
    "nz = ds3Din_dict[\"nz\"]\n",
    "sx = ds3Din_dict[\"sx\"]\n",
    "sy = ds3Din_dict[\"sy\"]\n",
    "sz = ds3Din_dict[\"sz\"]\n",
    "ox = ds3Din_dict[\"ox\"]\n",
    "oy = ds3Din_dict[\"oy\"]\n",
    "oz = ds3Din_dict[\"oz\"]\n",
    "nv = ds3Din_dict[\"nv\"]\n",
    "varname = ds3Din_dict[\"varname\"]\n",
    "name = \"res3D.gslib\"\n",
    "# Add a 3D TI to the parameter file\n",
    "ds3Din_dict[\"TI\"] = np.array([ti3D])"
   ]
  },
  {
   "cell_type": "markdown",
   "id": "25e71b80",
   "metadata": {},
   "source": [
    "From the information about the simulation grid retrieved above, we create an empty simulation grid initialized with *NaN*. This grid will be used as container for the results of the sequence of 2D simulation steps.\n",
    "\n",
    "Here we do not provide conditioning data, but if you have some you can load in the proper location of this 3D container as they will be taken into account in the next steps of the alogoritm."
   ]
  },
  {
   "cell_type": "code",
   "execution_count": 26,
   "id": "720bf93d",
   "metadata": {},
   "outputs": [],
   "source": [
    "# %% Create an empty simulation grid to be filled with the sequential 2D simulations\n",
    "\n",
    "# Create an empty simulation grid (Img) to be filled with the 2D simulations\n",
    "val = np.full([ds3Din_dict[\"nx\"], ds3Din_dict[\"ny\"], ds3Din_dict[\"nz\"]], np.nan)\n",
    "res3D = gn.img.Img(nx, ny, nz, sx, sy, sz, ox, oy, oz, nv, val, varname, name)"
   ]
  },
  {
   "cell_type": "markdown",
   "id": "3daddc5e",
   "metadata": {},
   "source": [
    "With the *DeeSse* input parameters set un in the dictionary ``ds3Din_dict`` we now instanciate a template for the parameters to be used in each step of the simulation sequence."
   ]
  },
  {
   "cell_type": "code",
   "execution_count": 27,
   "id": "8a47ef71",
   "metadata": {},
   "outputs": [],
   "source": [
    "# %% Set up the parameters and the training images\n",
    "\n",
    "# Set up the general parameters to be used for the target 3D final result\n",
    "ds3Din = gn.deesseinterface.DeesseInput(**ds3Din_dict)"
   ]
  },
  {
   "cell_type": "markdown",
   "id": "93d3fef8",
   "metadata": {},
   "source": [
    "## Set up the simulation parameters for the different simulation planes\n",
    "\n",
    "Now it is possible to set up the information related to each simulation step along the planes $xy$, $xz$ and $yz$.\n",
    "In this example, a TI along the plane $yz$ is not provided. Therefore, we set the parameter set for this plane to ``None``"
   ]
  },
  {
   "cell_type": "code",
   "execution_count": 28,
   "id": "3c4a9e10",
   "metadata": {},
   "outputs": [],
   "source": [
    "# Set up the main parameters for the simulation along the plane *yz*\n",
    "# from the 3D template (along this direction we do not have a TI in this example)\n",
    "ds_yz_in = None"
   ]
  },
  {
   "cell_type": "markdown",
   "id": "c3785412",
   "metadata": {},
   "source": [
    "Differently, for the two other planes $xz$ and $xy$ (or directions perpendicular to $x$ and $z$ axes) we set up the simulation parameters for the corresponding simulation steps.\n",
    "The steps required are:\n",
    "1. make a `copy` of the simulation parameter template.\n",
    "2. set the size of the simulation grid perpendicular to the 2D plane to `1`\n",
    "3. read the TI to be used along that plane, and add it to the parameters created at step 1."
   ]
  },
  {
   "cell_type": "code",
   "execution_count": 29,
   "id": "62c5c982",
   "metadata": {},
   "outputs": [],
   "source": [
    "# Set up the main parameters for the simulation along the plane *xz*, starting\n",
    "# from the 3D template\n",
    "ds_xz_in = copy.deepcopy(ds3Din)\n",
    "# For the moment we only set up the size of the SG. The origin will be defined\n",
    "# within the simulation sequence.\n",
    "ds_xz_in.ny = 1\n",
    "\n",
    "# Read the training image along the plane xz\n",
    "ti_xz = gn.img.readImageGslib(os.path.join(\"..\",\"data\",\"strebelle\", \n",
    "                                           \"ti_250x1x250.gslib\"))\n",
    "ds_xz_in.TI = np.array([ti_xz])\n",
    "\n",
    "# Set up the main parameters for the simulation along the plane *xy*, starting\n",
    "# from the 3D template\n",
    "ds_xy_in = copy.deepcopy(ds3Din)\n",
    "ds_xy_in.nz = 1\n",
    "# Read the training image along the plane *xy*\n",
    "ti_xy = gn.img.readImageGslib(os.path.join(\"..\",\"data\",\"strebelle\", \n",
    "                                           \"ti_250x250x1.gslib\"))\n",
    "ds_xy_in.TI = np.array([ti_xy])"
   ]
  },
  {
   "cell_type": "markdown",
   "id": "bc5a9368",
   "metadata": {},
   "source": [
    "## Setting of other simulation parameters\n",
    "\n",
    "Now it is time to set up some final parameters.\n",
    "\n",
    "> **NOTE**\n",
    "> The variable `step_max` is quite useful if you want to quickly test if your settings are OK without waiting until the simulation of all the nodes contained in the 3D simulation grid is completed.\n",
    "> \n",
    "> For example, you can set it to a low value, like for example `5`, and then you can verify if your simulation settings were OK by looking at the results. You can for example set the arguments `print_hd` and `print_sim` of the function `create_seq` to `True` (see the next cells) and then the hard data used in the intermediate simulation steps of the sequence and the intermediate simulation results will be saved as *VTK* files.\n",
    ">\n",
    "> If you don't need to debug of check, then you can set `step_max` to a very big integer, and the simulation will be stopped in any case when the 3D simulation grid is filled."
   ]
  },
  {
   "cell_type": "code",
   "execution_count": 30,
   "id": "95e95024",
   "metadata": {},
   "outputs": [],
   "source": [
    "# %% perform the simulation\n",
    "\n",
    "# The max number of simulation steps to be performed. You can use it\n",
    "# if you want to stop the simulation before the 3D domain is\n",
    "# completed (i.e. for quick testing purposes...).\n",
    "step_max = 1000000"
   ]
  },
  {
   "cell_type": "markdown",
   "id": "851408ce",
   "metadata": {},
   "source": [
    "It is also useful to print some info about the simulation settings..."
   ]
  },
  {
   "cell_type": "code",
   "execution_count": 31,
   "id": "1957c9a0",
   "metadata": {},
   "outputs": [
    {
     "name": "stdout",
     "output_type": "stream",
     "text": [
      "\n",
      "    Dimension of the simulation domain: (52x71x64)\n",
      "    Plane normal to axis *x*:\n",
      "        No TI defined \n",
      "    Plane normal to axis *y*:\n",
      "        MPS simulation engine: \"DeeSse\" with 8 threads\n",
      "        TI file:               \"../data/strebelle/ti_250x1x250.gslib\"\n",
      "    Plane normal to axis *z*:\n",
      "        MPS simulation engine: \"DeeSse\" with 8 threads\n",
      "        TI file:               \"../data/strebelle/ti_250x250x1.gslib\"\n"
     ]
    }
   ],
   "source": [
    "# Print some simulation info\n",
    "s2Dcd.print_sim_info(ds3Din, ds_yz_in, ds_xz_in, ds_xy_in, nthreads)"
   ]
  },
  {
   "cell_type": "markdown",
   "id": "f3eda569",
   "metadata": {},
   "source": [
    "## Create the simulation sequence\n",
    "\n",
    "The core of the procedure is the creation of the simulation sequence with the function `create_seq`. The simulation sequence contains, for each step, the training image to be used, the simulation parameters, and the coordinate along the direction perpedicular to the simulation plane where the simulation is performed.\n",
    "\n",
    "> **NOTE** By default, the `s2Dcd` will create a sequence that, in a case where the size of the simulation grid along the three dimensions are comparable, optimizes the number of intersections and therefore the \"coherence\" of the 2D slices (see the function `s2Dcd.matrioska_interval` for more details).\n",
    "However, depending on the shape of your domain or on the positions of your conditioning data, you can also customize the sequence as you wish.\n",
    "\n",
    "As anticipated before, if you need to check if the simulation procedure is working properly you can set the arguments `print_hd` and `print_sim` of the function `create_seq` to `True`.\n",
    "\n",
    "The fuction should warn you one TI is missing along some plane. If you expect that, don't worry about the warning message..."
   ]
  },
  {
   "cell_type": "code",
   "execution_count": 32,
   "id": "ecca7098",
   "metadata": {},
   "outputs": [
    {
     "name": "stdout",
     "output_type": "stream",
     "text": [
      "    WARNING: TI is missing along plane *yz*.\n"
     ]
    }
   ],
   "source": [
    "# Create the simulation sequence\n",
    "seq = s2Dcd.create_seq(ds3Din, ds_yz_in, ds_xz_in, ds_xy_in, nthreads)"
   ]
  },
  {
   "cell_type": "markdown",
   "id": "5b72d067",
   "metadata": {},
   "source": [
    "Then run the simulation and print some useful information..."
   ]
  },
  {
   "cell_type": "code",
   "execution_count": 33,
   "id": "c27ff55c",
   "metadata": {},
   "outputs": [
    {
     "name": "stdout",
     "output_type": "stream",
     "text": [
      "\n",
      "    *** Simulation starts *** \n",
      "    Seq.step   1 of 135 (max) - slice simulated: y =    0\n",
      "* checking out license OK.\n",
      "    Seq.step   2 of 135 (max) - slice simulated: z =    0\n",
      "* checking out license OK.\n",
      "    Seq.step   3 of 135 (max) - slice simulated: y =   70\n",
      "* checking out license OK.\n",
      "    Seq.step   4 of 135 (max) - slice simulated: z =   63\n",
      "* checking out license OK.\n",
      "    Seq.step   5 of 135 (max) - slice simulated: y =   35\n",
      "* checking out license OK.\n",
      "    Seq.step   6 of 135 (max) - slice simulated: z =   31\n",
      "* checking out license OK.\n",
      "    Seq.step   7 of 135 (max) - slice simulated: y =   17\n",
      "* checking out license OK.\n",
      "    Seq.step   8 of 135 (max) - slice simulated: z =   15\n",
      "* checking out license OK.\n",
      "    Seq.step   9 of 135 (max) - slice simulated: y =   53\n",
      "* checking out license OK.\n",
      "    Seq.step  10 of 135 (max) - slice simulated: z =   47\n",
      "* checking out license OK.\n",
      "    Seq.step  11 of 135 (max) - slice simulated: y =    8\n",
      "* checking out license OK.\n",
      "    Seq.step  12 of 135 (max) - slice simulated: z =    7\n",
      "* checking out license OK.\n",
      "    Seq.step  13 of 135 (max) - slice simulated: y =   26\n",
      "* checking out license OK.\n",
      "    Seq.step  14 of 135 (max) - slice simulated: z =   23\n",
      "* checking out license OK.\n",
      "    Seq.step  15 of 135 (max) - slice simulated: y =   44\n",
      "* checking out license OK.\n",
      "    Seq.step  16 of 135 (max) - slice simulated: z =   39\n",
      "* checking out license OK.\n",
      "    Seq.step  17 of 135 (max) - slice simulated: y =   62\n",
      "* checking out license OK.\n",
      "    Seq.step  18 of 135 (max) - slice simulated: z =   55\n",
      "* checking out license OK.\n",
      "    Seq.step  19 of 135 (max) - slice simulated: y =    4\n",
      "* checking out license OK.\n",
      "    Seq.step  20 of 135 (max) - slice simulated: z =    3\n",
      "* checking out license OK.\n",
      "    Seq.step  21 of 135 (max) - slice simulated: y =   13\n",
      "* checking out license OK.\n",
      "    Seq.step  22 of 135 (max) - slice simulated: z =   11\n",
      "* checking out license OK.\n",
      "    Seq.step  23 of 135 (max) - slice simulated: y =   22\n",
      "* checking out license OK.\n",
      "    Seq.step  24 of 135 (max) - slice simulated: z =   19\n",
      "* checking out license OK.\n",
      "    Seq.step  25 of 135 (max) - slice simulated: y =   31\n",
      "* checking out license OK.\n",
      "    Seq.step  26 of 135 (max) - slice simulated: z =   27\n",
      "* checking out license OK.\n",
      "    Seq.step  27 of 135 (max) - slice simulated: y =   40\n",
      "* checking out license OK.\n",
      "    Seq.step  28 of 135 (max) - slice simulated: z =   35\n",
      "* checking out license OK.\n",
      "    Seq.step  29 of 135 (max) - slice simulated: y =   49\n",
      "* checking out license OK.\n",
      "    Seq.step  30 of 135 (max) - slice simulated: z =   43\n",
      "* checking out license OK.\n",
      "    Seq.step  31 of 135 (max) - slice simulated: y =   58\n",
      "* checking out license OK.\n",
      "    Seq.step  32 of 135 (max) - slice simulated: z =   51\n",
      "* checking out license OK.\n",
      "    Seq.step  33 of 135 (max) - slice simulated: y =   66\n",
      "* checking out license OK.\n",
      "    Seq.step  34 of 135 (max) - slice simulated: z =   59\n",
      "* checking out license OK.\n",
      "    Seq.step  35 of 135 (max) - slice simulated: y =    2\n",
      "* checking out license OK.\n",
      "    Seq.step  36 of 135 (max) - slice simulated: z =    1\n",
      "* checking out license OK.\n",
      "    Seq.step  37 of 135 (max) - slice simulated: y =    6\n",
      "* checking out license OK.\n",
      "    Seq.step  38 of 135 (max) - slice simulated: z =    5\n",
      "* checking out license OK.\n",
      "    Seq.step  39 of 135 (max) - slice simulated: y =   11\n",
      "* checking out license OK.\n",
      "    Seq.step  40 of 135 (max) - slice simulated: z =    9\n",
      "* checking out license OK.\n",
      "    Seq.step  41 of 135 (max) - slice simulated: y =   15\n",
      "* checking out license OK.\n",
      "    Seq.step  42 of 135 (max) - slice simulated: z =   13\n",
      "* checking out license OK.\n",
      "    Seq.step  43 of 135 (max) - slice simulated: y =   20\n",
      "* checking out license OK.\n",
      "    Seq.step  44 of 135 (max) - slice simulated: z =   17\n",
      "* checking out license OK.\n",
      "    Seq.step  45 of 135 (max) - slice simulated: y =   24\n",
      "* checking out license OK.\n",
      "    Seq.step  46 of 135 (max) - slice simulated: z =   21\n",
      "* checking out license OK.\n",
      "    Seq.step  47 of 135 (max) - slice simulated: y =   29\n",
      "* checking out license OK.\n",
      "    Seq.step  48 of 135 (max) - slice simulated: z =   25\n",
      "* checking out license OK.\n",
      "    Seq.step  49 of 135 (max) - slice simulated: y =   33\n",
      "* checking out license OK.\n",
      "    Seq.step  50 of 135 (max) - slice simulated: z =   29\n",
      "* checking out license OK.\n",
      "    Seq.step  51 of 135 (max) - slice simulated: y =   38\n",
      "* checking out license OK.\n",
      "    Seq.step  52 of 135 (max) - slice simulated: z =   33\n",
      "* checking out license OK.\n",
      "    Seq.step  53 of 135 (max) - slice simulated: y =   42\n",
      "* checking out license OK.\n",
      "    Seq.step  54 of 135 (max) - slice simulated: z =   37\n",
      "* checking out license OK.\n",
      "    Seq.step  55 of 135 (max) - slice simulated: y =   47\n",
      "* checking out license OK.\n",
      "    Seq.step  56 of 135 (max) - slice simulated: z =   41\n",
      "* checking out license OK.\n",
      "    Seq.step  57 of 135 (max) - slice simulated: y =   51\n",
      "* checking out license OK.\n",
      "    Seq.step  58 of 135 (max) - slice simulated: z =   45\n",
      "* checking out license OK.\n",
      "    Seq.step  59 of 135 (max) - slice simulated: y =   56\n",
      "* checking out license OK.\n",
      "    Seq.step  60 of 135 (max) - slice simulated: z =   49\n",
      "* checking out license OK.\n",
      "    Seq.step  61 of 135 (max) - slice simulated: y =   60\n",
      "* checking out license OK.\n",
      "    Seq.step  62 of 135 (max) - slice simulated: z =   53\n",
      "* checking out license OK.\n",
      "    Seq.step  63 of 135 (max) - slice simulated: y =   64\n",
      "* checking out license OK.\n",
      "    Seq.step  64 of 135 (max) - slice simulated: z =   57\n",
      "* checking out license OK.\n",
      "    Seq.step  65 of 135 (max) - slice simulated: y =   68\n",
      "* checking out license OK.\n",
      "    Seq.step  66 of 135 (max) - slice simulated: z =   61\n",
      "* checking out license OK.\n",
      "    Seq.step  67 of 135 (max) - slice simulated: y =    1\n",
      "* checking out license OK.\n",
      "    Seq.step  68 of 135 (max) - slice simulated: z =    2\n",
      "* checking out license OK.\n",
      "    Seq.step  69 of 135 (max) - slice simulated: y =    3\n",
      "* checking out license OK.\n",
      "    Seq.step  70 of 135 (max) - slice simulated: z =    4\n",
      "* checking out license OK.\n",
      "    Seq.step  71 of 135 (max) - slice simulated: y =    5\n",
      "* checking out license OK.\n",
      "    Seq.step  72 of 135 (max) - slice simulated: z =    6\n",
      "* checking out license OK.\n",
      "    Seq.step  73 of 135 (max) - slice simulated: y =    7\n",
      "* checking out license OK.\n",
      "    Seq.step  74 of 135 (max) - slice simulated: z =    8\n",
      "* checking out license OK.\n",
      "    Seq.step  75 of 135 (max) - slice simulated: y =   10\n",
      "* checking out license OK.\n",
      "    Seq.step  76 of 135 (max) - slice simulated: z =   10\n",
      "* checking out license OK.\n",
      "    Seq.step  77 of 135 (max) - slice simulated: y =   12\n",
      "* checking out license OK.\n",
      "    Seq.step  78 of 135 (max) - slice simulated: z =   12\n",
      "* checking out license OK.\n",
      "    Seq.step  79 of 135 (max) - slice simulated: y =   14\n",
      "* checking out license OK.\n",
      "    Seq.step  80 of 135 (max) - slice simulated: z =   14\n",
      "* checking out license OK.\n",
      "    Seq.step  81 of 135 (max) - slice simulated: y =   16\n",
      "* checking out license OK.\n",
      "    Seq.step  82 of 135 (max) - slice simulated: z =   16\n",
      "* checking out license OK.\n",
      "    Seq.step  83 of 135 (max) - slice simulated: y =   19\n",
      "* checking out license OK.\n",
      "    Seq.step  84 of 135 (max) - slice simulated: z =   18\n",
      "* checking out license OK.\n",
      "    Seq.step  85 of 135 (max) - slice simulated: y =   21\n",
      "* checking out license OK.\n",
      "    Seq.step  86 of 135 (max) - slice simulated: z =   20\n",
      "* checking out license OK.\n",
      "    Seq.step  87 of 135 (max) - slice simulated: y =   23\n",
      "* checking out license OK.\n",
      "    Seq.step  88 of 135 (max) - slice simulated: z =   22\n",
      "* checking out license OK.\n",
      "    Seq.step  89 of 135 (max) - slice simulated: y =   25\n",
      "* checking out license OK.\n",
      "    Seq.step  90 of 135 (max) - slice simulated: z =   24\n",
      "* checking out license OK.\n",
      "    Seq.step  91 of 135 (max) - slice simulated: y =   28\n",
      "* checking out license OK.\n",
      "    Seq.step  92 of 135 (max) - slice simulated: z =   26\n",
      "* checking out license OK.\n",
      "    Seq.step  93 of 135 (max) - slice simulated: y =   30\n",
      "* checking out license OK.\n",
      "    Seq.step  94 of 135 (max) - slice simulated: z =   28\n",
      "* checking out license OK.\n",
      "    Seq.step  95 of 135 (max) - slice simulated: y =   32\n",
      "* checking out license OK.\n",
      "    Seq.step  96 of 135 (max) - slice simulated: z =   30\n",
      "* checking out license OK.\n",
      "    Seq.step  97 of 135 (max) - slice simulated: y =   34\n"
     ]
    },
    {
     "name": "stdout",
     "output_type": "stream",
     "text": [
      "* checking out license OK.\n",
      "    Seq.step  98 of 135 (max) - slice simulated: z =   32\n",
      "* checking out license OK.\n",
      "    Seq.step  99 of 135 (max) - slice simulated: y =   37\n",
      "* checking out license OK.\n",
      "    Seq.step 100 of 135 (max) - slice simulated: z =   34\n",
      "* checking out license OK.\n",
      "    Seq.step 101 of 135 (max) - slice simulated: y =   39\n",
      "* checking out license OK.\n",
      "    Seq.step 102 of 135 (max) - slice simulated: z =   36\n",
      "* checking out license OK.\n",
      "    Seq.step 103 of 135 (max) - slice simulated: y =   41\n",
      "* checking out license OK.\n",
      "    Seq.step 104 of 135 (max) - slice simulated: z =   38\n",
      "* checking out license OK.\n",
      "    Seq.step 105 of 135 (max) - slice simulated: y =   43\n",
      "* checking out license OK.\n",
      "    Seq.step 106 of 135 (max) - slice simulated: z =   40\n",
      "* checking out license OK.\n",
      "    Seq.step 107 of 135 (max) - slice simulated: y =   46\n",
      "* checking out license OK.\n",
      "    Seq.step 108 of 135 (max) - slice simulated: z =   42\n",
      "* checking out license OK.\n",
      "    Seq.step 109 of 135 (max) - slice simulated: y =   48\n",
      "* checking out license OK.\n",
      "    Seq.step 110 of 135 (max) - slice simulated: z =   44\n",
      "* checking out license OK.\n",
      "    Seq.step 111 of 135 (max) - slice simulated: y =   50\n",
      "* checking out license OK.\n",
      "    Seq.step 112 of 135 (max) - slice simulated: z =   46\n",
      "* checking out license OK.\n",
      "    Seq.step 113 of 135 (max) - slice simulated: y =   52\n",
      "* checking out license OK.\n",
      "    Seq.step 114 of 135 (max) - slice simulated: z =   48\n",
      "* checking out license OK.\n",
      "    Seq.step 115 of 135 (max) - slice simulated: y =   55\n",
      "* checking out license OK.\n",
      "    Seq.step 116 of 135 (max) - slice simulated: z =   50\n",
      "* checking out license OK.\n",
      "    Seq.step 117 of 135 (max) - slice simulated: y =   57\n",
      "* checking out license OK.\n",
      "    Seq.step 118 of 135 (max) - slice simulated: z =   52\n",
      "* checking out license OK.\n",
      "    Seq.step 119 of 135 (max) - slice simulated: y =   59\n",
      "* checking out license OK.\n",
      "    Seq.step 120 of 135 (max) - slice simulated: z =   54\n",
      "* checking out license OK.\n",
      "    Seq.step 121 of 135 (max) - slice simulated: y =   61\n",
      "* checking out license OK.\n",
      "    Seq.step 122 of 135 (max) - slice simulated: z =   56\n",
      "* checking out license OK.\n",
      "    Seq.step 123 of 135 (max) - slice simulated: y =   63\n",
      "* checking out license OK.\n",
      "    Seq.step 124 of 135 (max) - slice simulated: z =   58\n",
      "* checking out license OK.\n",
      "    Seq.step 125 of 135 (max) - slice simulated: y =   65\n",
      "* checking out license OK.\n",
      "    Seq.step 126 of 135 (max) - slice simulated: z =   60\n",
      "* checking out license OK.\n",
      "    Seq.step 127 of 135 (max) - slice simulated: y =   67\n",
      "* checking out license OK.\n",
      "    Seq.step 128 of 135 (max) - slice simulated: z =   62\n",
      "* checking out license OK.\n",
      "    Seq.step 129 of 135 (max) - slice simulated: y =   69\n",
      "    - no need for simulation, section full of hard data.\n",
      "    Seq.step 130 of 135 (max) - slice simulated: y =    9\n",
      "    - no need for simulation, section full of hard data.\n",
      "    Seq.step 131 of 135 (max) - slice simulated: y =   18\n",
      "    - no need for simulation, section full of hard data.\n",
      "    Seq.step 132 of 135 (max) - slice simulated: y =   27\n",
      "    - no need for simulation, section full of hard data.\n",
      "    Seq.step 133 of 135 (max) - slice simulated: y =   36\n",
      "    - no need for simulation, section full of hard data.\n",
      "    Seq.step 134 of 135 (max) - slice simulated: y =   45\n",
      "    - no need for simulation, section full of hard data.\n",
      "    Seq.step 135 of 135 (max) - slice simulated: y =   54\n",
      "    - no need for simulation, section full of hard data.\n",
      "\n",
      "    All the domain completed!\n",
      "\n",
      "    *** Saving the result ***\n"
     ]
    }
   ],
   "source": [
    "#\n",
    "# Simulation\n",
    "#\n",
    "s2Dcd.sim_run(seq, step_max, res3D, ds3Din, nthreads)"
   ]
  },
  {
   "cell_type": "code",
   "execution_count": 34,
   "id": "e50d5594",
   "metadata": {},
   "outputs": [
    {
     "name": "stdout",
     "output_type": "stream",
     "text": [
      "\n",
      "    STOP:   Wed Aug 17 11:03:24 2022\n",
      "    Ellapsed time [sec]: 7.45\n",
      "\n",
      "\n"
     ]
    }
   ],
   "source": [
    "# Stop counting time\n",
    "utili.print_stop(time_start)"
   ]
  },
  {
   "cell_type": "markdown",
   "id": "91eab2ad",
   "metadata": {},
   "source": [
    "Finally, save the results as a *VTK* file and draw it:"
   ]
  },
  {
   "cell_type": "code",
   "execution_count": 35,
   "id": "4e3822a2",
   "metadata": {},
   "outputs": [
    {
     "data": {
      "application/vnd.jupyter.widget-view+json": {
       "model_id": "d10ec4121f954864bc83949b0e2d49a7",
       "version_major": 2,
       "version_minor": 0
      },
      "text/plain": [
       "ViewInteractiveWidget(height=768, layout=Layout(height='auto', width='100%'), width=1024)"
      ]
     },
     "metadata": {},
     "output_type": "display_data"
    },
    {
     "data": {
      "text/plain": [
       "<Figure size 432x288 with 0 Axes>"
      ]
     },
     "metadata": {},
     "output_type": "display_data"
    }
   ],
   "source": [
    "gn.img.writeImageVtk(res3D, \"res3D.vtk\", missing_value=-9999999)\n",
    "\n",
    "# %% Print the result in 3D with PyVista\n",
    "pl.figure()\n",
    "gn.imgplot3d.drawImage3D_surface(res3D, text='TI', scalar_bar_kwargs={'vertical':True})\n",
    "pl.show()\n"
   ]
  }
 ],
 "metadata": {
  "kernelspec": {
   "display_name": "Python 3 (ipykernel)",
   "language": "python",
   "name": "python3"
  },
  "language_info": {
   "codemirror_mode": {
    "name": "ipython",
    "version": 3
   },
   "file_extension": ".py",
   "mimetype": "text/x-python",
   "name": "python",
   "nbconvert_exporter": "python",
   "pygments_lexer": "ipython3",
   "version": "3.10.4"
  }
 },
 "nbformat": 4,
 "nbformat_minor": 5
}
